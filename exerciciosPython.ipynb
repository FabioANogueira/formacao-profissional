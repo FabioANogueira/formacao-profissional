{
  "nbformat": 4,
  "nbformat_minor": 0,
  "metadata": {
    "colab": {
      "provenance": [],
      "authorship_tag": "ABX9TyMreGHn2Y7+OpEhWSkAqS6Q",
      "include_colab_link": true
    },
    "kernelspec": {
      "name": "python3",
      "display_name": "Python 3"
    },
    "language_info": {
      "name": "python"
    }
  },
  "cells": [
    {
      "cell_type": "markdown",
      "metadata": {
        "id": "view-in-github",
        "colab_type": "text"
      },
      "source": [
        "<a href=\"https://colab.research.google.com/github/FabioANogueira/formacao-profissional/blob/main/exerciciosPython.ipynb\" target=\"_parent\"><img src=\"https://colab.research.google.com/assets/colab-badge.svg\" alt=\"Open In Colab\"/></a>"
      ]
    },
    {
      "cell_type": "code",
      "execution_count": 1,
      "metadata": {
        "colab": {
          "base_uri": "https://localhost:8080/"
        },
        "id": "LyfHejl8g9na",
        "outputId": "d0546b6b-90cc-47f6-9361-1194d40b8632"
      },
      "outputs": [
        {
          "output_type": "stream",
          "name": "stdout",
          "text": [
            "Hello World\n"
          ]
        }
      ],
      "source": [
        "print('Hello World')"
      ]
    },
    {
      "cell_type": "code",
      "source": [
        "disciplina='Formação Profissional em omputação'\n",
        "qtdSistemas = 8\n",
        "nota1 = 9.0\n",
        "nota2 = 7.0\n",
        "media = (nota1+nota2)/2\n",
        "media"
      ],
      "metadata": {
        "colab": {
          "base_uri": "https://localhost:8080/"
        },
        "id": "EXSJE7NvhY1E",
        "outputId": "c8d7e009-2bf3-4a6f-c811-c9769424f7ba"
      },
      "execution_count": 2,
      "outputs": [
        {
          "output_type": "execute_result",
          "data": {
            "text/plain": [
              "8.0"
            ]
          },
          "metadata": {},
          "execution_count": 2
        }
      ]
    },
    {
      "cell_type": "code",
      "source": [
        "print(nota1)"
      ],
      "metadata": {
        "colab": {
          "base_uri": "https://localhost:8080/"
        },
        "id": "ErdBUbB0h468",
        "outputId": "3c47bc5c-3ad7-4c04-da68-dfbf7799e849"
      },
      "execution_count": 3,
      "outputs": [
        {
          "output_type": "stream",
          "name": "stdout",
          "text": [
            "9.0\n"
          ]
        }
      ]
    },
    {
      "cell_type": "code",
      "source": [
        "print(disciplina)"
      ],
      "metadata": {
        "colab": {
          "base_uri": "https://localhost:8080/"
        },
        "id": "xVA0mkZdjlXB",
        "outputId": "4ec89624-d241-45db-8d0c-f7058bcdbcb8"
      },
      "execution_count": 4,
      "outputs": [
        {
          "output_type": "stream",
          "name": "stdout",
          "text": [
            "Formação Profissional em omputação\n"
          ]
        }
      ]
    },
    {
      "cell_type": "code",
      "source": [
        "def media_notas(nota1, nota2):\n",
        "  return (nota1+nota2)/2"
      ],
      "metadata": {
        "id": "VDSfxkn9jsY6"
      },
      "execution_count": 5,
      "outputs": []
    },
    {
      "cell_type": "code",
      "source": [
        "media_notas(4,10)"
      ],
      "metadata": {
        "colab": {
          "base_uri": "https://localhost:8080/"
        },
        "id": "ggov78HBj73x",
        "outputId": "86578232-c950-44bb-831e-45a48cb56f10"
      },
      "execution_count": 6,
      "outputs": [
        {
          "output_type": "execute_result",
          "data": {
            "text/plain": [
              "7.0"
            ]
          },
          "metadata": {},
          "execution_count": 6
        }
      ]
    },
    {
      "cell_type": "code",
      "source": [
        "def exercicio1():\n",
        "  palavra=input('Digite uma palavra: ')\n",
        "  lista = list(palavra)\n",
        "  segredo = ''\n",
        "  for x in lista:\n",
        "    if (x== 'z'): segredo+= 'a'\n",
        "    elif (x=='Z'): segredo+= 'A'\n",
        "    else: segredo+= chr(ord(x)+1)\n",
        "  print (segredo)"
      ],
      "metadata": {
        "id": "VARfyWRckA1J"
      },
      "execution_count": 8,
      "outputs": []
    },
    {
      "cell_type": "code",
      "source": [
        "exercicio1()\n"
      ],
      "metadata": {
        "colab": {
          "base_uri": "https://localhost:8080/"
        },
        "id": "BoslDRmflODK",
        "outputId": "20b795d2-7a5e-4029-c3d0-4089341a0d57"
      },
      "execution_count": 10,
      "outputs": [
        {
          "output_type": "stream",
          "name": "stdout",
          "text": [
            "Digite uma palavra: FABIO\n",
            "GBCJP\n"
          ]
        }
      ]
    },
    {
      "cell_type": "code",
      "source": [
        "lista_notas = [10,5,8]"
      ],
      "metadata": {
        "id": "eVdGPLdVmebZ"
      },
      "execution_count": 12,
      "outputs": []
    },
    {
      "cell_type": "code",
      "source": [
        "lista_notas[0]"
      ],
      "metadata": {
        "colab": {
          "base_uri": "https://localhost:8080/"
        },
        "id": "VRLPh2HlmqC5",
        "outputId": "57635f4a-f36e-49e6-c675-30285abe65e4"
      },
      "execution_count": 13,
      "outputs": [
        {
          "output_type": "execute_result",
          "data": {
            "text/plain": [
              "10"
            ]
          },
          "metadata": {},
          "execution_count": 13
        }
      ]
    },
    {
      "cell_type": "code",
      "source": [
        "dicionario_alunos=(\"nome\": \"Fulano\", \"idade\": 22)"
      ],
      "metadata": {
        "colab": {
          "base_uri": "https://localhost:8080/",
          "height": 106
        },
        "id": "I9niH86nmubQ",
        "outputId": "77f02a35-db04-4af2-cdd0-65b2fd9d021c"
      },
      "execution_count": 18,
      "outputs": [
        {
          "output_type": "error",
          "ename": "SyntaxError",
          "evalue": "invalid syntax (ipython-input-323648705.py, line 1)",
          "traceback": [
            "\u001b[0;36m  File \u001b[0;32m\"/tmp/ipython-input-323648705.py\"\u001b[0;36m, line \u001b[0;32m1\u001b[0m\n\u001b[0;31m    dicionario_alunos=(\"nome\": \"Fulano\", \"idade\": 22)\u001b[0m\n\u001b[0m                             ^\u001b[0m\n\u001b[0;31mSyntaxError\u001b[0m\u001b[0;31m:\u001b[0m invalid syntax\n"
          ]
        }
      ]
    },
    {
      "cell_type": "code",
      "source": [
        "dicionario_alunos['nome']"
      ],
      "metadata": {
        "colab": {
          "base_uri": "https://localhost:8080/",
          "height": 141
        },
        "id": "ogyiTcYqoEUh",
        "outputId": "7c77c40e-b8ce-47f9-8f9a-79be5ecc644d"
      },
      "execution_count": 19,
      "outputs": [
        {
          "output_type": "error",
          "ename": "NameError",
          "evalue": "name 'dicionario_alunos' is not defined",
          "traceback": [
            "\u001b[0;31m---------------------------------------------------------------------------\u001b[0m",
            "\u001b[0;31mNameError\u001b[0m                                 Traceback (most recent call last)",
            "\u001b[0;32m/tmp/ipython-input-754423940.py\u001b[0m in \u001b[0;36m<cell line: 0>\u001b[0;34m()\u001b[0m\n\u001b[0;32m----> 1\u001b[0;31m \u001b[0mdicionario_alunos\u001b[0m\u001b[0;34m[\u001b[0m\u001b[0;34m'nome'\u001b[0m\u001b[0;34m]\u001b[0m\u001b[0;34m\u001b[0m\u001b[0;34m\u001b[0m\u001b[0m\n\u001b[0m",
            "\u001b[0;31mNameError\u001b[0m: name 'dicionario_alunos' is not defined"
          ]
        }
      ]
    },
    {
      "cell_type": "code",
      "source": [
        "import pandas as pd\n",
        "uri = \"https://gist.github.com/aegorenkov/f7f0f8d6e9cc17ca9774572e224e2ad1\"\n",
        "bebidas=pd.read_csv(uri, error_bad_lines=False, encoding='latin 1')\n",
        "bebidas.head()\n"
      ],
      "metadata": {
        "id": "Z5OjbFnsoWK4"
      },
      "execution_count": null,
      "outputs": []
    },
    {
      "cell_type": "code",
      "source": [
        "bebidas.columns = ['pais','cervejas','destilados', 'vinhos', 'total']\n",
        "bebidas.head()"
      ],
      "metadata": {
        "id": "JQ49iFRSqS3Z"
      },
      "execution_count": null,
      "outputs": []
    },
    {
      "cell_type": "code",
      "source": [],
      "metadata": {
        "id": "jWkwoHW9qmBg"
      },
      "execution_count": null,
      "outputs": []
    }
  ]
}